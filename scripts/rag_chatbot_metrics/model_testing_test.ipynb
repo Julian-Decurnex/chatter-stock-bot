{
 "cells": [
  {
   "cell_type": "code",
   "execution_count": 109,
   "metadata": {},
   "outputs": [],
   "source": [
    "# Imports main tools:\n",
    "from trulens_eval import TruChain, Tru\n",
    "tru = Tru()\n",
    "tru.reset_database()\n",
    "\n",
    "# Imports from LangChain to build app\n",
    "import bs4\n",
    "from langchain import hub\n",
    "from langchain.chat_models import ChatOpenAI\n",
    "from langchain.document_loaders import WebBaseLoader\n",
    "from langchain.schema import StrOutputParser\n",
    "from langchain_core.runnables import RunnablePassthrough"
   ]
  },
  {
   "cell_type": "code",
   "execution_count": 110,
   "metadata": {},
   "outputs": [],
   "source": [
    "import os\n",
    "import boto3\n",
    "from io import BytesIO\n",
    "import PyPDF2\n",
    "from pathlib import Path\n",
    "from dotenv import load_dotenv\n",
    "\n",
    "# Remove the PINECONE_API_KEY environment variable if it exists to ensure a clean state.\n",
    "if 'PINECONE_API_KEY' in os.environ:\n",
    "    del os.environ['PINECONE_API_KEY']\n",
    "\n",
    "# Load environment variables from a .env file.\n",
    "load_dotenv()\n",
    "\n",
    "# Import necessary modules and classes for the chatbot functionality.\n",
    "from langchain_core.prompts import ChatPromptTemplate, MessagesPlaceholder\n",
    "from langchain.agents import AgentExecutor\n",
    "from langchain_community.tools.tavily_search import TavilySearchResults\n",
    "from langchain_community.document_loaders import WebBaseLoader\n",
    "from langchain.text_splitter import RecursiveCharacterTextSplitter\n",
    "from langchain_community.vectorstores.faiss import FAISS\n",
    "from langchain_community.embeddings.huggingface import HuggingFaceInstructEmbeddings\n",
    "from langchain.tools.retriever import create_retriever_tool\n",
    "from langchain.memory import ConversationBufferMemory\n",
    "from langchain.agents import create_tool_calling_agent\n",
    "from langchain_google_genai import ChatGoogleGenerativeAI\n",
    "from langchain_community.chat_message_histories.upstash_redis import UpstashRedisChatMessageHistory\n",
    "from langchain_core.runnables.history import RunnableWithMessageHistory\n",
    "from langchain_core.runnables import RunnablePassthrough\n",
    "from pinecone import Pinecone\n",
    "from langchain_pinecone import PineconeVectorStore\n",
    "from langchain_openai import OpenAIEmbeddings, ChatOpenAI\n",
    "from langchain.tools import tool\n",
    "from langchain_community.tools.yahoo_finance_news import YahooFinanceNewsTool\n",
    "\n",
    "import chainlit as cl\n",
    "\n",
    "# Setup for Langsmith tracing.\n",
    "from langsmith import Client\n",
    "os.environ[\"LANGCHAIN_TRACING_V2\"] = \"true\"\n",
    "os.environ[\"LANGCHAIN_ENDPOINT\"] = \"https://api.smith.langchain.com\"\n",
    "os.environ[\"LANGCHAIN_TRACING_V2\"] = \"agent-chain\"\n",
    "client = Client()\n",
    "\n",
    "# Retrieve Upstash Redis configuration from environment variables.\n",
    "UPSTASH_REDIS_REST_URL = os.getenv(\"UPSTASH_REDIS_REST_URL\")  # URL for the Upstash Redis REST API.\n",
    "UPSTASH_REDIS_REST_TOKEN = os.getenv(\"UPSTASH_REDIS_REST_TOKEN\")  # Authentication token for the Upstash Redis REST API.\n",
    "\n",
    "# Create a chat message history instance using Upstash Redis.\n",
    "session_id = \"chat-1\"  # Session ID for the chat session.\n",
    "history = UpstashRedisChatMessageHistory(\n",
    "    url=UPSTASH_REDIS_REST_URL,\n",
    "    token=UPSTASH_REDIS_REST_TOKEN,\n",
    "    session_id=session_id,\n",
    "    ttl=0\n",
    ")\n",
    "\n",
    "model_name = \"text-embedding-3-small\"  # Model name for the OpenAI embeddings.\n",
    "embeddings = OpenAIEmbeddings(model=model_name)  # Embedding model for vector representation.\n",
    "\n",
    "# Initialize a Pinecone-based vector store retriever.\n",
    "index_name = os.getenv('PINECONE_INDEX_NAME')  # Name of the Pinecone index.\n",
    "pinecone_api_key = os.getenv(\"PINECONE_API_KEY\")  # API key for Pinecone.\n",
    "pc = Pinecone(api_key=pinecone_api_key)  # Initialize Pinecone with the API key.\n",
    "index = pc.Index(index_name)  # Access or create the specified index in Pinecone.\n",
    "vectorstore = PineconeVectorStore(index_name=index_name, embedding=embeddings)  # Pinecone vector store for storing and retrieving vectors.\n",
    "retriever = vectorstore.as_retriever(search_kwargs={\"k\": 3})  # Retriever tool configured to return top 3 results.\n",
    "\n",
    "# Initialize the chatbot with specified retrievers and session ID.\n",
    "model = \"gpt-3.5-turbo-0125\"  # Model identifier for the OpenAI chat model.\n",
    "llm = ChatOpenAI(model=model)  # Initialize the chat model.\n",
    "prompt = ChatPromptTemplate.from_messages([\n",
    "    (\"system\", \"You are a financial advisor called Investibot.\"),\n",
    "    (\"human\", \"{input}\"),\n",
    "])\n",
    "\n",
    "rag_chain = (\n",
    "    {\n",
    "        \"context\": retriever,\n",
    "        \"input\": RunnablePassthrough(),\n",
    "     }\n",
    "    | prompt\n",
    "    | llm\n",
    "    | StrOutputParser()\n",
    ")\n",
    "\n",
    "# print(rag_chain)\n",
    "\n",
    "# Process a chat input and return the agent's response.\n",
    "# input = \"What was American Airlines' revenue for 2019?\"  # Example user input.\n",
    "# response = rag_chain.invoke(input)\n",
    "# print(response)"
   ]
  },
  {
   "cell_type": "code",
   "execution_count": 111,
   "metadata": {},
   "outputs": [
    {
     "name": "stdout",
     "output_type": "stream",
     "text": [
      "page_content='during 2020 compared to 2019  Customer revenues increased in 2020 for contracted airline services charter flights \\naircraft leasing and aviation fuel sales compared to the previous year periods  Beginning in late February 2020 our \\nrevenues were disrupted due to the COVID19 pandemic  The DoD and other customers began canceling scheduled \\npassenger flights as a result of the pandemic  The decline in revenues from these cancellations was offset by an \\nincrease in flying for our customers package delivery networks and charter flight operations during 2020  Revenues \\nfor 2018 were 8923 million and included only a few weeks of revenue for OAI which was acquired on November \\n9 2018\\nThe consolidated net earnings from continuing operations were 251 million for 2020 compared to 600 \\nmillion for 2019 and 679 million for 2018  The pretax earnings from continuing operations were 414 million' metadata={'company': 'NASDAQ_ATSG', 'index': 193.0, 'name': 'NASDAQ_ATSG_2020.txt', 'year': '2020'}\n",
      "page_content='AAvailable seatmilesASMsthousands 1702790 21281408 01554581 8 329 95\\nLoad factor 703 595 839 108 136\\nDepartures 113121 85276 105690 327 70\\nBlockhours 256991 191732 238361 340 78\\nAAverageseatsperdeparture 1742 1728 1711 08 18\\nYieldcents3661 588 700 124 56\\nTotalpassenger revenue perA SMTRASM\\ncents2 978 740 1128 322 133\\nAAveragefarescheduled service4585052456158 115 50\\nAAveragefare  airrelated char ges4583353025196 100 123\\nAAveragefare  third part yproducts 640543 472 179 356\\nAAveragefare  total 123241109111826 111 42\\nAAverage stagel engthmiles 862 867 859 06 03\\nFuelgallons consumedthousands 198891 145528 188596 367 55\\nAAveragefuelcost pergallon 213148218 439 23\\nRental car da ys sold 136112311321731921930 202 292\\nHotel room ni ghts sold 261158 199059 415593 312 372\\nPercentofsalesthroughwebsite durin gperiod 947 931 933 16 15\\n1Includes ef feffctof speciali temsin theyears2020and 2021' metadata={'company': 'NASDAQ_ALGT', 'index': 178.0, 'name': 'NASDAQ_ALGT_2021.txt', 'year': '2021'}\n",
      "page_content='million  Improved revenues were driven by a 14 increase in billable block hours during 2020  Increased revenues \\nfor 2020 included additional aircraft operations for ASI and DHL while block hours flown for the DoD declined  \\nRevenues for the year ending December 31 2020 were impacted by the COVID19 pandemic  In late February \\n2020 the DoD began canceling combi aircraft flights and in March commercial customers began canceling \\nscheduled passenger flights as a result of the pandemic  Combined block hours flown for contracted commercial \\npassenger and combi flights declined 39 for the year ended December 31 2020 compared to December 31 2019 \\ndue to the pandemic  The decline in revenues from these cancellations was mitigated by increased flying for \\ncustomer ecommerce networks and passenger charter flights for the DoD and other governmental agencies \\nincluding flights to return people to the United States who were stranded abroad as a result of the pandemic' metadata={'company': 'NASDAQ_ATSG', 'index': 211.0, 'name': 'NASDAQ_ATSG_2020.txt', 'year': '2020'}\n"
     ]
    }
   ],
   "source": [
    "input = \"What was American Airlines' revenue for 2019?\"  # Example user input.\n",
    "response = retriever.invoke(input)\n",
    "for doc in response:\n",
    "    print(doc)"
   ]
  },
  {
   "cell_type": "markdown",
   "metadata": {},
   "source": [
    "# Lesson 2: RAG Triad of metrics"
   ]
  },
  {
   "cell_type": "code",
   "execution_count": 112,
   "metadata": {},
   "outputs": [
    {
     "name": "stdout",
     "output_type": "stream",
     "text": [
      "✅ In context_relevance_with_cot_reasons, input question will be set to __record__.main_input or `Select.RecordInput` .\n",
      "✅ In context_relevance_with_cot_reasons, input context will be set to __record__.app.invoke.rets .\n",
      "✅ In groundedness_measure_with_cot_reasons, input source will be set to __record__.app.invoke.rets.collect() .\n",
      "✅ In groundedness_measure_with_cot_reasons, input statement will be set to __record__.main_output or `Select.RecordOutput` .\n",
      "✅ In relevance, input prompt will be set to __record__.main_input or `Select.RecordInput` .\n",
      "✅ In relevance, input response will be set to __record__.main_output or `Select.RecordOutput` .\n"
     ]
    }
   ],
   "source": [
    "# ANOTHER ALTERNATIVE\n",
    "\n",
    "from trulens_eval.feedback.provider import OpenAI\n",
    "from trulens_eval import Feedback\n",
    "import numpy as np\n",
    "\n",
    "# Initialize provider class\n",
    "provider = OpenAI()\n",
    "\n",
    "# select context to be used in feedback. the location of context is app specific.\n",
    "from trulens_eval.app import App\n",
    "context = App.select_context(retriever)\n",
    "\n",
    "# Question/statement relevance between question and each context chunk.\n",
    "f_context_relevance = (\n",
    "    Feedback(provider.context_relevance_with_cot_reasons)\n",
    "    .on_input()\n",
    "    .on(context)\n",
    "    .aggregate(np.mean)\n",
    ")\n",
    "\n",
    "# Define a groundedness feedback function\n",
    "f_groundedness = (\n",
    "    Feedback(provider.groundedness_measure_with_cot_reasons)\n",
    "    .on(context.collect()) # collect context chunks into a list\n",
    "    .on_output()\n",
    ")\n",
    "\n",
    "# Question/answer relevance between overall question and answer.\n",
    "f_answer_relevance = (\n",
    "    Feedback(provider.relevance)\n",
    "    .on_input_output()\n",
    ")"
   ]
  },
  {
   "cell_type": "code",
   "execution_count": 113,
   "metadata": {},
   "outputs": [],
   "source": [
    "from trulens_eval import TruChain\n",
    "\n",
    "tru_recorder = TruChain(rag_chain,\n",
    "    app_id='Chain1_ChatApplication',\n",
    "    feedbacks=[f_answer_relevance, f_context_relevance, f_groundedness])"
   ]
  },
  {
   "cell_type": "code",
   "execution_count": 116,
   "metadata": {},
   "outputs": [
    {
     "data": {
      "text/plain": [
       "\"American Airlines' revenue for 2019 was approximately $45.8 billion.\""
      ]
     },
     "metadata": {},
     "output_type": "display_data"
    }
   ],
   "source": [
    "test_prompts = [\n",
    "    \"What was American Airlines' revenue for 2019?\",\n",
    "    # \"What was Nvidia's revenue for 2019?\",\n",
    "    # \"What was Apple's revenue for 2019?\",\n",
    "    # \"What was Microsoft's revenue for 2019?\",\n",
    "    # \"What was Applied Optoelectronics's revenue for 2019?\",\n",
    "    # \"What was Arch Capital Group's revenue for 2019?\",\n",
    "    # \"What was Abiomed's revenue for 2019?\",\n",
    "    # \"What was ACI Worldwide's revenue for 2019?\",\n",
    "    # \"What was Acadia Healthcare Company's revenue for 2019?\",\n",
    "    # \"What was ACNB Corporation's revenue for 2019?\",\n",
    "]\n",
    "\n",
    "with tru_recorder as recording:\n",
    "    for prompt in test_prompts:\n",
    "        llm_response = rag_chain.invoke(prompt)\n",
    "        display(llm_response)"
   ]
  },
  {
   "cell_type": "code",
   "execution_count": 117,
   "metadata": {},
   "outputs": [
    {
     "data": {
      "text/plain": [
       "[Record(record_id='record_hash_dce8b75862c3ff0c933f1872004fbcbc', app_id='Chain1_ChatApplication', cost=Cost(n_requests=2, n_successful_requests=2, n_classes=0, n_tokens=59, n_stream_chunks=0, n_prompt_tokens=43, n_completion_tokens=16, cost=3.9999999999999996e-05), perf=Perf(start_time=datetime.datetime(2024, 6, 11, 21, 51, 29, 37672), end_time=datetime.datetime(2024, 6, 11, 21, 51, 32, 915368)), ts=datetime.datetime(2024, 6, 11, 21, 51, 32, 915368), tags='-', meta=None, main_input=\"What was American Airlines' revenue for 2019?\", main_output=\"American Airlines' revenue for 2019 was approximately $45.8 billion.\", main_error=None, calls=[RecordAppCall(call_id='dc3201e3-b5e2-4e5b-8538-bf6391f8243c', stack=[RecordAppCallMethod(path=Lens().app, method=Method(obj=Obj(cls=langchain_core.runnables.base.RunnableSequence, id=1756216539984, init_bindings=None), name='invoke')), RecordAppCallMethod(path=Lens().app.first, method=Method(obj=Obj(cls=langchain_core.runnables.base.RunnableParallel, id=1756235484496, init_bindings=None), name='invoke')), RecordAppCallMethod(path=Lens().app.first.steps__.input, method=Method(obj=Obj(cls=langchain_core.runnables.passthrough.RunnablePassthrough, id=1756263713488, init_bindings=None), name='invoke'))], args={'input': \"What was American Airlines' revenue for 2019?\", 'config': {'tags': [], 'metadata': {}, 'callbacks': {'__tru_non_serialized_object': {'cls': {'name': 'CallbackManager', 'module': {'package_name': 'langchain_core.callbacks', 'module_name': 'langchain_core.callbacks.manager'}, 'bases': None}, 'id': 1756214046848, 'init_bindings': None}}, 'recursion_limit': 25, 'configurable': {}}}, rets=\"What was American Airlines' revenue for 2019?\", error=None, perf=Perf(start_time=datetime.datetime(2024, 6, 11, 21, 51, 29, 830602), end_time=datetime.datetime(2024, 6, 11, 21, 51, 30, 95742)), pid=9088, tid=19548), RecordAppCall(call_id='437459e4-b184-433e-bfbd-915bd20edbd5', stack=[RecordAppCallMethod(path=Lens().app, method=Method(obj=Obj(cls=langchain_core.runnables.base.RunnableSequence, id=1756216539984, init_bindings=None), name='invoke')), RecordAppCallMethod(path=Lens().app.first, method=Method(obj=Obj(cls=langchain_core.runnables.base.RunnableParallel, id=1756235484496, init_bindings=None), name='invoke')), RecordAppCallMethod(path=Lens().app.first.steps__.context, method=Method(obj=Obj(cls=langchain_core.vectorstores.VectorStoreRetriever, id=1756240602384, init_bindings=None), name='invoke')), RecordAppCallMethod(path=Lens().app.first.steps__.context, method=Method(obj=Obj(cls=langchain_core.vectorstores.VectorStoreRetriever, id=1756240602384, init_bindings=None), name='get_relevant_documents')), RecordAppCallMethod(path=Lens().app.first.steps__.context, method=Method(obj=Obj(cls=langchain_core.vectorstores.VectorStoreRetriever, id=1756240602384, init_bindings=None), name='_get_relevant_documents'))], args={'query': \"What was American Airlines' revenue for 2019?\", 'run_manager': {'__tru_non_serialized_object': {'cls': {'name': 'CallbackManagerForRetrieverRun', 'module': {'package_name': 'langchain_core.callbacks', 'module_name': 'langchain_core.callbacks.manager'}, 'bases': None}, 'id': 1756191235040, 'init_bindings': None}}}, rets=[{'page_content': 'during 2020 compared to 2019  Customer revenues increased in 2020 for contracted airline services charter flights \\naircraft leasing and aviation fuel sales compared to the previous year periods  Beginning in late February 2020 our \\nrevenues were disrupted due to the COVID19 pandemic  The DoD and other customers began canceling scheduled \\npassenger flights as a result of the pandemic  The decline in revenues from these cancellations was offset by an \\nincrease in flying for our customers package delivery networks and charter flight operations during 2020  Revenues \\nfor 2018 were 8923 million and included only a few weeks of revenue for OAI which was acquired on November \\n9 2018\\nThe consolidated net earnings from continuing operations were 251 million for 2020 compared to 600 \\nmillion for 2019 and 679 million for 2018  The pretax earnings from continuing operations were 414 million', 'metadata': {'company': 'NASDAQ_ATSG', 'index': 193.0, 'name': 'NASDAQ_ATSG_2020.txt', 'year': '2020'}, 'type': 'Document'}, {'page_content': 'AAvailable seatmilesASMsthousands 1702790 21281408 01554581 8 329 95\\nLoad factor 703 595 839 108 136\\nDepartures 113121 85276 105690 327 70\\nBlockhours 256991 191732 238361 340 78\\nAAverageseatsperdeparture 1742 1728 1711 08 18\\nYieldcents3661 588 700 124 56\\nTotalpassenger revenue perA SMTRASM\\ncents2 978 740 1128 322 133\\nAAveragefarescheduled service4585052456158 115 50\\nAAveragefare  airrelated char ges4583353025196 100 123\\nAAveragefare  third part yproducts 640543 472 179 356\\nAAveragefare  total 123241109111826 111 42\\nAAverage stagel engthmiles 862 867 859 06 03\\nFuelgallons consumedthousands 198891 145528 188596 367 55\\nAAveragefuelcost pergallon 213148218 439 23\\nRental car da ys sold 136112311321731921930 202 292\\nHotel room ni ghts sold 261158 199059 415593 312 372\\nPercentofsalesthroughwebsite durin gperiod 947 931 933 16 15\\n1Includes ef feffctof speciali temsin theyears2020and 2021', 'metadata': {'company': 'NASDAQ_ALGT', 'index': 178.0, 'name': 'NASDAQ_ALGT_2021.txt', 'year': '2021'}, 'type': 'Document'}, {'page_content': 'million  Improved revenues were driven by a 14 increase in billable block hours during 2020  Increased revenues \\nfor 2020 included additional aircraft operations for ASI and DHL while block hours flown for the DoD declined  \\nRevenues for the year ending December 31 2020 were impacted by the COVID19 pandemic  In late February \\n2020 the DoD began canceling combi aircraft flights and in March commercial customers began canceling \\nscheduled passenger flights as a result of the pandemic  Combined block hours flown for contracted commercial \\npassenger and combi flights declined 39 for the year ended December 31 2020 compared to December 31 2019 \\ndue to the pandemic  The decline in revenues from these cancellations was mitigated by increased flying for \\ncustomer ecommerce networks and passenger charter flights for the DoD and other governmental agencies \\nincluding flights to return people to the United States who were stranded abroad as a result of the pandemic', 'metadata': {'company': 'NASDAQ_ATSG', 'index': 211.0, 'name': 'NASDAQ_ATSG_2020.txt', 'year': '2020'}, 'type': 'Document'}], error=None, perf=Perf(start_time=datetime.datetime(2024, 6, 11, 21, 51, 30, 270095), end_time=datetime.datetime(2024, 6, 11, 21, 51, 31, 6385)), pid=9088, tid=1448), RecordAppCall(call_id='c6af2094-d9f7-4b14-89a1-d21832b2649e', stack=[RecordAppCallMethod(path=Lens().app, method=Method(obj=Obj(cls=langchain_core.runnables.base.RunnableSequence, id=1756216539984, init_bindings=None), name='invoke')), RecordAppCallMethod(path=Lens().app.first, method=Method(obj=Obj(cls=langchain_core.runnables.base.RunnableParallel, id=1756235484496, init_bindings=None), name='invoke')), RecordAppCallMethod(path=Lens().app.first.steps__.context, method=Method(obj=Obj(cls=langchain_core.vectorstores.VectorStoreRetriever, id=1756240602384, init_bindings=None), name='invoke')), RecordAppCallMethod(path=Lens().app.first.steps__.context, method=Method(obj=Obj(cls=langchain_core.vectorstores.VectorStoreRetriever, id=1756240602384, init_bindings=None), name='get_relevant_documents'))], args={'query': \"What was American Airlines' revenue for 2019?\", 'callbacks': {'__tru_non_serialized_object': {'cls': {'name': 'CallbackManager', 'module': {'package_name': 'langchain_core.callbacks', 'module_name': 'langchain_core.callbacks.manager'}, 'bases': None}, 'id': 1756179786464, 'init_bindings': None}}, 'tags': [], 'metadata': {}, 'run_name': None}, rets=[{'page_content': 'during 2020 compared to 2019  Customer revenues increased in 2020 for contracted airline services charter flights \\naircraft leasing and aviation fuel sales compared to the previous year periods  Beginning in late February 2020 our \\nrevenues were disrupted due to the COVID19 pandemic  The DoD and other customers began canceling scheduled \\npassenger flights as a result of the pandemic  The decline in revenues from these cancellations was offset by an \\nincrease in flying for our customers package delivery networks and charter flight operations during 2020  Revenues \\nfor 2018 were 8923 million and included only a few weeks of revenue for OAI which was acquired on November \\n9 2018\\nThe consolidated net earnings from continuing operations were 251 million for 2020 compared to 600 \\nmillion for 2019 and 679 million for 2018  The pretax earnings from continuing operations were 414 million', 'metadata': {'company': 'NASDAQ_ATSG', 'index': 193.0, 'name': 'NASDAQ_ATSG_2020.txt', 'year': '2020'}, 'type': 'Document'}, {'page_content': 'AAvailable seatmilesASMsthousands 1702790 21281408 01554581 8 329 95\\nLoad factor 703 595 839 108 136\\nDepartures 113121 85276 105690 327 70\\nBlockhours 256991 191732 238361 340 78\\nAAverageseatsperdeparture 1742 1728 1711 08 18\\nYieldcents3661 588 700 124 56\\nTotalpassenger revenue perA SMTRASM\\ncents2 978 740 1128 322 133\\nAAveragefarescheduled service4585052456158 115 50\\nAAveragefare  airrelated char ges4583353025196 100 123\\nAAveragefare  third part yproducts 640543 472 179 356\\nAAveragefare  total 123241109111826 111 42\\nAAverage stagel engthmiles 862 867 859 06 03\\nFuelgallons consumedthousands 198891 145528 188596 367 55\\nAAveragefuelcost pergallon 213148218 439 23\\nRental car da ys sold 136112311321731921930 202 292\\nHotel room ni ghts sold 261158 199059 415593 312 372\\nPercentofsalesthroughwebsite durin gperiod 947 931 933 16 15\\n1Includes ef feffctof speciali temsin theyears2020and 2021', 'metadata': {'company': 'NASDAQ_ALGT', 'index': 178.0, 'name': 'NASDAQ_ALGT_2021.txt', 'year': '2021'}, 'type': 'Document'}, {'page_content': 'million  Improved revenues were driven by a 14 increase in billable block hours during 2020  Increased revenues \\nfor 2020 included additional aircraft operations for ASI and DHL while block hours flown for the DoD declined  \\nRevenues for the year ending December 31 2020 were impacted by the COVID19 pandemic  In late February \\n2020 the DoD began canceling combi aircraft flights and in March commercial customers began canceling \\nscheduled passenger flights as a result of the pandemic  Combined block hours flown for contracted commercial \\npassenger and combi flights declined 39 for the year ended December 31 2020 compared to December 31 2019 \\ndue to the pandemic  The decline in revenues from these cancellations was mitigated by increased flying for \\ncustomer ecommerce networks and passenger charter flights for the DoD and other governmental agencies \\nincluding flights to return people to the United States who were stranded abroad as a result of the pandemic', 'metadata': {'company': 'NASDAQ_ATSG', 'index': 211.0, 'name': 'NASDAQ_ATSG_2020.txt', 'year': '2020'}, 'type': 'Document'}], error=None, perf=Perf(start_time=datetime.datetime(2024, 6, 11, 21, 51, 30, 47427), end_time=datetime.datetime(2024, 6, 11, 21, 51, 31, 7366)), pid=9088, tid=1448), RecordAppCall(call_id='0dd22c13-c89d-45f1-8f0b-66be96a12c63', stack=[RecordAppCallMethod(path=Lens().app, method=Method(obj=Obj(cls=langchain_core.runnables.base.RunnableSequence, id=1756216539984, init_bindings=None), name='invoke')), RecordAppCallMethod(path=Lens().app.first, method=Method(obj=Obj(cls=langchain_core.runnables.base.RunnableParallel, id=1756235484496, init_bindings=None), name='invoke')), RecordAppCallMethod(path=Lens().app.first.steps__.context, method=Method(obj=Obj(cls=langchain_core.vectorstores.VectorStoreRetriever, id=1756240602384, init_bindings=None), name='invoke'))], args={'input': \"What was American Airlines' revenue for 2019?\", 'config': {'tags': [], 'metadata': {}, 'callbacks': {'__tru_non_serialized_object': {'cls': {'name': 'CallbackManager', 'module': {'package_name': 'langchain_core.callbacks', 'module_name': 'langchain_core.callbacks.manager'}, 'bases': None}, 'id': 1756179786464, 'init_bindings': None}}, 'recursion_limit': 25, 'configurable': {}}}, rets=[{'page_content': 'during 2020 compared to 2019  Customer revenues increased in 2020 for contracted airline services charter flights \\naircraft leasing and aviation fuel sales compared to the previous year periods  Beginning in late February 2020 our \\nrevenues were disrupted due to the COVID19 pandemic  The DoD and other customers began canceling scheduled \\npassenger flights as a result of the pandemic  The decline in revenues from these cancellations was offset by an \\nincrease in flying for our customers package delivery networks and charter flight operations during 2020  Revenues \\nfor 2018 were 8923 million and included only a few weeks of revenue for OAI which was acquired on November \\n9 2018\\nThe consolidated net earnings from continuing operations were 251 million for 2020 compared to 600 \\nmillion for 2019 and 679 million for 2018  The pretax earnings from continuing operations were 414 million', 'metadata': {'company': 'NASDAQ_ATSG', 'index': 193.0, 'name': 'NASDAQ_ATSG_2020.txt', 'year': '2020'}, 'type': 'Document'}, {'page_content': 'AAvailable seatmilesASMsthousands 1702790 21281408 01554581 8 329 95\\nLoad factor 703 595 839 108 136\\nDepartures 113121 85276 105690 327 70\\nBlockhours 256991 191732 238361 340 78\\nAAverageseatsperdeparture 1742 1728 1711 08 18\\nYieldcents3661 588 700 124 56\\nTotalpassenger revenue perA SMTRASM\\ncents2 978 740 1128 322 133\\nAAveragefarescheduled service4585052456158 115 50\\nAAveragefare  airrelated char ges4583353025196 100 123\\nAAveragefare  third part yproducts 640543 472 179 356\\nAAveragefare  total 123241109111826 111 42\\nAAverage stagel engthmiles 862 867 859 06 03\\nFuelgallons consumedthousands 198891 145528 188596 367 55\\nAAveragefuelcost pergallon 213148218 439 23\\nRental car da ys sold 136112311321731921930 202 292\\nHotel room ni ghts sold 261158 199059 415593 312 372\\nPercentofsalesthroughwebsite durin gperiod 947 931 933 16 15\\n1Includes ef feffctof speciali temsin theyears2020and 2021', 'metadata': {'company': 'NASDAQ_ALGT', 'index': 178.0, 'name': 'NASDAQ_ALGT_2021.txt', 'year': '2021'}, 'type': 'Document'}, {'page_content': 'million  Improved revenues were driven by a 14 increase in billable block hours during 2020  Increased revenues \\nfor 2020 included additional aircraft operations for ASI and DHL while block hours flown for the DoD declined  \\nRevenues for the year ending December 31 2020 were impacted by the COVID19 pandemic  In late February \\n2020 the DoD began canceling combi aircraft flights and in March commercial customers began canceling \\nscheduled passenger flights as a result of the pandemic  Combined block hours flown for contracted commercial \\npassenger and combi flights declined 39 for the year ended December 31 2020 compared to December 31 2019 \\ndue to the pandemic  The decline in revenues from these cancellations was mitigated by increased flying for \\ncustomer ecommerce networks and passenger charter flights for the DoD and other governmental agencies \\nincluding flights to return people to the United States who were stranded abroad as a result of the pandemic', 'metadata': {'company': 'NASDAQ_ATSG', 'index': 211.0, 'name': 'NASDAQ_ATSG_2020.txt', 'year': '2020'}, 'type': 'Document'}], error=None, perf=Perf(start_time=datetime.datetime(2024, 6, 11, 21, 51, 29, 792484), end_time=datetime.datetime(2024, 6, 11, 21, 51, 31, 8369)), pid=9088, tid=1448), RecordAppCall(call_id='111b65f7-74eb-4e53-a50b-b19918540f54', stack=[RecordAppCallMethod(path=Lens().app, method=Method(obj=Obj(cls=langchain_core.runnables.base.RunnableSequence, id=1756216539984, init_bindings=None), name='invoke')), RecordAppCallMethod(path=Lens().app.first, method=Method(obj=Obj(cls=langchain_core.runnables.base.RunnableParallel, id=1756235484496, init_bindings=None), name='invoke'))], args={'input': \"What was American Airlines' revenue for 2019?\", 'config': {'tags': [], 'metadata': {}, 'callbacks': {'__tru_non_serialized_object': {'cls': {'name': 'CallbackManager', 'module': {'package_name': 'langchain_core.callbacks', 'module_name': 'langchain_core.callbacks.manager'}, 'bases': None}, 'id': 1756179779504, 'init_bindings': None}}, 'recursion_limit': 25, 'configurable': {}}}, rets={'context': [{'page_content': 'during 2020 compared to 2019  Customer revenues increased in 2020 for contracted airline services charter flights \\naircraft leasing and aviation fuel sales compared to the previous year periods  Beginning in late February 2020 our \\nrevenues were disrupted due to the COVID19 pandemic  The DoD and other customers began canceling scheduled \\npassenger flights as a result of the pandemic  The decline in revenues from these cancellations was offset by an \\nincrease in flying for our customers package delivery networks and charter flight operations during 2020  Revenues \\nfor 2018 were 8923 million and included only a few weeks of revenue for OAI which was acquired on November \\n9 2018\\nThe consolidated net earnings from continuing operations were 251 million for 2020 compared to 600 \\nmillion for 2019 and 679 million for 2018  The pretax earnings from continuing operations were 414 million', 'metadata': {'company': 'NASDAQ_ATSG', 'index': 193.0, 'name': 'NASDAQ_ATSG_2020.txt', 'year': '2020'}, 'type': 'Document'}, {'page_content': 'AAvailable seatmilesASMsthousands 1702790 21281408 01554581 8 329 95\\nLoad factor 703 595 839 108 136\\nDepartures 113121 85276 105690 327 70\\nBlockhours 256991 191732 238361 340 78\\nAAverageseatsperdeparture 1742 1728 1711 08 18\\nYieldcents3661 588 700 124 56\\nTotalpassenger revenue perA SMTRASM\\ncents2 978 740 1128 322 133\\nAAveragefarescheduled service4585052456158 115 50\\nAAveragefare  airrelated char ges4583353025196 100 123\\nAAveragefare  third part yproducts 640543 472 179 356\\nAAveragefare  total 123241109111826 111 42\\nAAverage stagel engthmiles 862 867 859 06 03\\nFuelgallons consumedthousands 198891 145528 188596 367 55\\nAAveragefuelcost pergallon 213148218 439 23\\nRental car da ys sold 136112311321731921930 202 292\\nHotel room ni ghts sold 261158 199059 415593 312 372\\nPercentofsalesthroughwebsite durin gperiod 947 931 933 16 15\\n1Includes ef feffctof speciali temsin theyears2020and 2021', 'metadata': {'company': 'NASDAQ_ALGT', 'index': 178.0, 'name': 'NASDAQ_ALGT_2021.txt', 'year': '2021'}, 'type': 'Document'}, {'page_content': 'million  Improved revenues were driven by a 14 increase in billable block hours during 2020  Increased revenues \\nfor 2020 included additional aircraft operations for ASI and DHL while block hours flown for the DoD declined  \\nRevenues for the year ending December 31 2020 were impacted by the COVID19 pandemic  In late February \\n2020 the DoD began canceling combi aircraft flights and in March commercial customers began canceling \\nscheduled passenger flights as a result of the pandemic  Combined block hours flown for contracted commercial \\npassenger and combi flights declined 39 for the year ended December 31 2020 compared to December 31 2019 \\ndue to the pandemic  The decline in revenues from these cancellations was mitigated by increased flying for \\ncustomer ecommerce networks and passenger charter flights for the DoD and other governmental agencies \\nincluding flights to return people to the United States who were stranded abroad as a result of the pandemic', 'metadata': {'company': 'NASDAQ_ATSG', 'index': 211.0, 'name': 'NASDAQ_ATSG_2020.txt', 'year': '2020'}, 'type': 'Document'}], 'input': \"What was American Airlines' revenue for 2019?\"}, error=None, perf=Perf(start_time=datetime.datetime(2024, 6, 11, 21, 51, 29, 443298), end_time=datetime.datetime(2024, 6, 11, 21, 51, 31, 9542)), pid=9088, tid=7236), RecordAppCall(call_id='2054d050-e8b7-4ca4-9aa5-f694ef461f0e', stack=[RecordAppCallMethod(path=Lens().app, method=Method(obj=Obj(cls=langchain_core.runnables.base.RunnableSequence, id=1756216539984, init_bindings=None), name='invoke')), RecordAppCallMethod(path=Lens().app.middle[0], method=Method(obj=Obj(cls=langchain_core.prompts.chat.ChatPromptTemplate, id=1756235492752, init_bindings=None), name='invoke'))], args={'input': {'context': [{'page_content': 'during 2020 compared to 2019  Customer revenues increased in 2020 for contracted airline services charter flights \\naircraft leasing and aviation fuel sales compared to the previous year periods  Beginning in late February 2020 our \\nrevenues were disrupted due to the COVID19 pandemic  The DoD and other customers began canceling scheduled \\npassenger flights as a result of the pandemic  The decline in revenues from these cancellations was offset by an \\nincrease in flying for our customers package delivery networks and charter flight operations during 2020  Revenues \\nfor 2018 were 8923 million and included only a few weeks of revenue for OAI which was acquired on November \\n9 2018\\nThe consolidated net earnings from continuing operations were 251 million for 2020 compared to 600 \\nmillion for 2019 and 679 million for 2018  The pretax earnings from continuing operations were 414 million', 'metadata': {'company': 'NASDAQ_ATSG', 'index': 193.0, 'name': 'NASDAQ_ATSG_2020.txt', 'year': '2020'}, 'type': 'Document'}, {'page_content': 'AAvailable seatmilesASMsthousands 1702790 21281408 01554581 8 329 95\\nLoad factor 703 595 839 108 136\\nDepartures 113121 85276 105690 327 70\\nBlockhours 256991 191732 238361 340 78\\nAAverageseatsperdeparture 1742 1728 1711 08 18\\nYieldcents3661 588 700 124 56\\nTotalpassenger revenue perA SMTRASM\\ncents2 978 740 1128 322 133\\nAAveragefarescheduled service4585052456158 115 50\\nAAveragefare  airrelated char ges4583353025196 100 123\\nAAveragefare  third part yproducts 640543 472 179 356\\nAAveragefare  total 123241109111826 111 42\\nAAverage stagel engthmiles 862 867 859 06 03\\nFuelgallons consumedthousands 198891 145528 188596 367 55\\nAAveragefuelcost pergallon 213148218 439 23\\nRental car da ys sold 136112311321731921930 202 292\\nHotel room ni ghts sold 261158 199059 415593 312 372\\nPercentofsalesthroughwebsite durin gperiod 947 931 933 16 15\\n1Includes ef feffctof speciali temsin theyears2020and 2021', 'metadata': {'company': 'NASDAQ_ALGT', 'index': 178.0, 'name': 'NASDAQ_ALGT_2021.txt', 'year': '2021'}, 'type': 'Document'}, {'page_content': 'million  Improved revenues were driven by a 14 increase in billable block hours during 2020  Increased revenues \\nfor 2020 included additional aircraft operations for ASI and DHL while block hours flown for the DoD declined  \\nRevenues for the year ending December 31 2020 were impacted by the COVID19 pandemic  In late February \\n2020 the DoD began canceling combi aircraft flights and in March commercial customers began canceling \\nscheduled passenger flights as a result of the pandemic  Combined block hours flown for contracted commercial \\npassenger and combi flights declined 39 for the year ended December 31 2020 compared to December 31 2019 \\ndue to the pandemic  The decline in revenues from these cancellations was mitigated by increased flying for \\ncustomer ecommerce networks and passenger charter flights for the DoD and other governmental agencies \\nincluding flights to return people to the United States who were stranded abroad as a result of the pandemic', 'metadata': {'company': 'NASDAQ_ATSG', 'index': 211.0, 'name': 'NASDAQ_ATSG_2020.txt', 'year': '2020'}, 'type': 'Document'}], 'input': \"What was American Airlines' revenue for 2019?\"}, 'config': {'tags': [], 'metadata': {}, 'callbacks': {'__tru_non_serialized_object': {'cls': {'name': 'CallbackManager', 'module': {'package_name': 'langchain_core.callbacks', 'module_name': 'langchain_core.callbacks.manager'}, 'bases': None}, 'id': 1756213937936, 'init_bindings': None}}, 'recursion_limit': 25, 'configurable': {}}}, rets={'messages': [{'content': 'You are a financial advisor called Investibot.', 'additional_kwargs': {}, 'response_metadata': {}, 'type': 'system', 'name': None, 'id': None}, {'content': \"What was American Airlines' revenue for 2019?\", 'additional_kwargs': {}, 'response_metadata': {}, 'type': 'human', 'name': None, 'id': None, 'example': False}]}, error=None, perf=Perf(start_time=datetime.datetime(2024, 6, 11, 21, 51, 31, 145337), end_time=datetime.datetime(2024, 6, 11, 21, 51, 31, 387609)), pid=9088, tid=7236), RecordAppCall(call_id='ed45ef92-ba2b-4b12-b26a-fd22489188ff', stack=[RecordAppCallMethod(path=Lens().app, method=Method(obj=Obj(cls=langchain_core.runnables.base.RunnableSequence, id=1756216539984, init_bindings=None), name='invoke')), RecordAppCallMethod(path=Lens().app.middle[1], method=Method(obj=Obj(cls=langchain_openai.chat_models.base.ChatOpenAI, id=1756244354000, init_bindings=None), name='invoke'))], args={'input': {'messages': [{'content': 'You are a financial advisor called Investibot.', 'additional_kwargs': {}, 'response_metadata': {}, 'type': 'system', 'name': None, 'id': None}, {'content': \"What was American Airlines' revenue for 2019?\", 'additional_kwargs': {}, 'response_metadata': {}, 'type': 'human', 'name': None, 'id': None, 'example': False}]}, 'config': {'tags': [], 'metadata': {}, 'callbacks': {'__tru_non_serialized_object': {'cls': {'name': 'CallbackManager', 'module': {'package_name': 'langchain_core.callbacks', 'module_name': 'langchain_core.callbacks.manager'}, 'bases': None}, 'id': 1756214035616, 'init_bindings': None}}, 'recursion_limit': 25, 'configurable': {}}}, rets={'content': \"American Airlines' revenue for 2019 was approximately $45.8 billion.\", 'additional_kwargs': {}, 'response_metadata': {'token_usage': {'completion_tokens': 16, 'prompt_tokens': 32, 'total_tokens': 48}, 'model_name': 'gpt-3.5-turbo-0125', 'system_fingerprint': None, 'finish_reason': 'stop', 'logprobs': None}, 'type': 'ai', 'name': None, 'id': 'run-7915cb34-28b8-4a93-9209-873337eb7dbf-0', 'example': False, 'tool_calls': [], 'invalid_tool_calls': [], 'usage_metadata': {'input_tokens': 32, 'output_tokens': 16, 'total_tokens': 48}}, error=None, perf=Perf(start_time=datetime.datetime(2024, 6, 11, 21, 51, 31, 520965), end_time=datetime.datetime(2024, 6, 11, 21, 51, 32, 536583)), pid=9088, tid=7236), RecordAppCall(call_id='11e2e386-8b08-48ad-974a-89aeaa74f28f', stack=[RecordAppCallMethod(path=Lens().app, method=Method(obj=Obj(cls=langchain_core.runnables.base.RunnableSequence, id=1756216539984, init_bindings=None), name='invoke')), RecordAppCallMethod(path=Lens().app.last, method=Method(obj=Obj(cls=langchain_core.output_parsers.string.StrOutputParser, id=1756185160784, init_bindings=None), name='invoke'))], args={'input': {'content': \"American Airlines' revenue for 2019 was approximately $45.8 billion.\", 'additional_kwargs': {}, 'response_metadata': {'token_usage': {'completion_tokens': 16, 'prompt_tokens': 32, 'total_tokens': 48}, 'model_name': 'gpt-3.5-turbo-0125', 'system_fingerprint': None, 'finish_reason': 'stop', 'logprobs': None}, 'type': 'ai', 'name': None, 'id': 'run-7915cb34-28b8-4a93-9209-873337eb7dbf-0', 'example': False, 'tool_calls': [], 'invalid_tool_calls': [], 'usage_metadata': {'input_tokens': 32, 'output_tokens': 16, 'total_tokens': 48}}, 'config': {'tags': [], 'metadata': {}, 'callbacks': {'__tru_non_serialized_object': {'cls': {'name': 'CallbackManager', 'module': {'package_name': 'langchain_core.callbacks', 'module_name': 'langchain_core.callbacks.manager'}, 'bases': None}, 'id': 1756179789776, 'init_bindings': None}}, 'recursion_limit': 25, 'configurable': {}}}, rets=\"American Airlines' revenue for 2019 was approximately $45.8 billion.\", error=None, perf=Perf(start_time=datetime.datetime(2024, 6, 11, 21, 51, 32, 663130), end_time=datetime.datetime(2024, 6, 11, 21, 51, 32, 913367)), pid=9088, tid=7236), RecordAppCall(call_id='70d6ebf9-bc1f-4aee-9916-35b28314bb1f', stack=[RecordAppCallMethod(path=Lens().app, method=Method(obj=Obj(cls=langchain_core.runnables.base.RunnableSequence, id=1756216539984, init_bindings=None), name='invoke'))], args={'input': \"What was American Airlines' revenue for 2019?\"}, rets=\"American Airlines' revenue for 2019 was approximately $45.8 billion.\", error=None, perf=Perf(start_time=datetime.datetime(2024, 6, 11, 21, 51, 29, 37672), end_time=datetime.datetime(2024, 6, 11, 21, 51, 32, 915368)), pid=9088, tid=7236)], feedback_and_future_results=[(FeedbackDefinition(relevance,\n",
       " \tselectors={'prompt': Lens().__record__.main_input, 'response': Lens().__record__.main_output},\n",
       " \tif_exists=None\n",
       " ), <Future at 0x198e96574a0 state=running>), (FeedbackDefinition(context_relevance_with_cot_reasons,\n",
       " \tselectors={'question': Lens().__record__.main_input, 'context': Lens().__record__.app.invoke.rets},\n",
       " \tif_exists=None\n",
       " ), <Future at 0x198e50d7d70 state=running>), (FeedbackDefinition(groundedness_measure_with_cot_reasons,\n",
       " \tselectors={'source': Lens().__record__.app.invoke.rets.collect(), 'statement': Lens().__record__.main_output},\n",
       " \tif_exists=None\n",
       " ), <Future at 0x198e50fdbe0 state=running>)], feedback_results=[<Future at 0x198e96574a0 state=running>, <Future at 0x198e50d7d70 state=running>, <Future at 0x198e50fdbe0 state=running>])]"
      ]
     },
     "metadata": {},
     "output_type": "display_data"
    }
   ],
   "source": [
    "# The record of the app invocation can be retrieved from the `recording`:\n",
    "\n",
    "rec = recording.get() # use .get if only one record\n",
    "# recs = recording.records # use .records if multiple\n",
    "\n",
    "display(rec)"
   ]
  },
  {
   "cell_type": "code",
   "execution_count": 119,
   "metadata": {},
   "outputs": [
    {
     "data": {
      "text/html": [
       "<div>\n",
       "<style scoped>\n",
       "    .dataframe tbody tr th:only-of-type {\n",
       "        vertical-align: middle;\n",
       "    }\n",
       "\n",
       "    .dataframe tbody tr th {\n",
       "        vertical-align: top;\n",
       "    }\n",
       "\n",
       "    .dataframe thead th {\n",
       "        text-align: right;\n",
       "    }\n",
       "</style>\n",
       "<table border=\"1\" class=\"dataframe\">\n",
       "  <thead>\n",
       "    <tr style=\"text-align: right;\">\n",
       "      <th></th>\n",
       "      <th>app_id</th>\n",
       "      <th>app_json</th>\n",
       "      <th>type</th>\n",
       "      <th>record_id</th>\n",
       "      <th>input</th>\n",
       "      <th>output</th>\n",
       "      <th>tags</th>\n",
       "      <th>record_json</th>\n",
       "      <th>cost_json</th>\n",
       "      <th>perf_json</th>\n",
       "      <th>ts</th>\n",
       "      <th>latency</th>\n",
       "      <th>total_tokens</th>\n",
       "      <th>total_cost</th>\n",
       "    </tr>\n",
       "  </thead>\n",
       "  <tbody>\n",
       "    <tr>\n",
       "      <th>0</th>\n",
       "      <td>Chain1_ChatApplication</td>\n",
       "      <td>{\"tru_class_info\": {\"name\": \"TruChain\", \"modul...</td>\n",
       "      <td>RunnableSequence(langchain_core.runnables.base)</td>\n",
       "      <td>record_hash_dce8b75862c3ff0c933f1872004fbcbc</td>\n",
       "      <td>\"What was American Airlines' revenue for 2019?\"</td>\n",
       "      <td>\"American Airlines' revenue for 2019 was appro...</td>\n",
       "      <td>-</td>\n",
       "      <td>{\"record_id\": \"record_hash_dce8b75862c3ff0c933...</td>\n",
       "      <td>{\"n_requests\": 2, \"n_successful_requests\": 2, ...</td>\n",
       "      <td>{\"start_time\": \"2024-06-11T21:51:29.037672\", \"...</td>\n",
       "      <td>2024-06-11T21:51:32.915368</td>\n",
       "      <td>3</td>\n",
       "      <td>59</td>\n",
       "      <td>0.00004</td>\n",
       "    </tr>\n",
       "  </tbody>\n",
       "</table>\n",
       "</div>"
      ],
      "text/plain": [
       "                   app_id                                           app_json  \\\n",
       "0  Chain1_ChatApplication  {\"tru_class_info\": {\"name\": \"TruChain\", \"modul...   \n",
       "\n",
       "                                              type  \\\n",
       "0  RunnableSequence(langchain_core.runnables.base)   \n",
       "\n",
       "                                      record_id  \\\n",
       "0  record_hash_dce8b75862c3ff0c933f1872004fbcbc   \n",
       "\n",
       "                                             input  \\\n",
       "0  \"What was American Airlines' revenue for 2019?\"   \n",
       "\n",
       "                                              output tags  \\\n",
       "0  \"American Airlines' revenue for 2019 was appro...    -   \n",
       "\n",
       "                                         record_json  \\\n",
       "0  {\"record_id\": \"record_hash_dce8b75862c3ff0c933...   \n",
       "\n",
       "                                           cost_json  \\\n",
       "0  {\"n_requests\": 2, \"n_successful_requests\": 2, ...   \n",
       "\n",
       "                                           perf_json  \\\n",
       "0  {\"start_time\": \"2024-06-11T21:51:29.037672\", \"...   \n",
       "\n",
       "                           ts  latency  total_tokens  total_cost  \n",
       "0  2024-06-11T21:51:32.915368        3            59     0.00004  "
      ]
     },
     "execution_count": 119,
     "metadata": {},
     "output_type": "execute_result"
    }
   ],
   "source": [
    "records, feedback = tru.get_records_and_feedback(app_ids=[\"Chain1_ChatApplication\"])\n",
    "\n",
    "records.head()"
   ]
  },
  {
   "cell_type": "code",
   "execution_count": 120,
   "metadata": {},
   "outputs": [
    {
     "data": {
      "text/html": [
       "<div>\n",
       "<style scoped>\n",
       "    .dataframe tbody tr th:only-of-type {\n",
       "        vertical-align: middle;\n",
       "    }\n",
       "\n",
       "    .dataframe tbody tr th {\n",
       "        vertical-align: top;\n",
       "    }\n",
       "\n",
       "    .dataframe thead th {\n",
       "        text-align: right;\n",
       "    }\n",
       "</style>\n",
       "<table border=\"1\" class=\"dataframe\">\n",
       "  <thead>\n",
       "    <tr style=\"text-align: right;\">\n",
       "      <th></th>\n",
       "      <th>latency</th>\n",
       "      <th>total_cost</th>\n",
       "    </tr>\n",
       "    <tr>\n",
       "      <th>app_id</th>\n",
       "      <th></th>\n",
       "      <th></th>\n",
       "    </tr>\n",
       "  </thead>\n",
       "  <tbody>\n",
       "    <tr>\n",
       "      <th>Chain1_ChatApplication</th>\n",
       "      <td>3.0</td>\n",
       "      <td>0.00004</td>\n",
       "    </tr>\n",
       "  </tbody>\n",
       "</table>\n",
       "</div>"
      ],
      "text/plain": [
       "                        latency  total_cost\n",
       "app_id                                     \n",
       "Chain1_ChatApplication      3.0     0.00004"
      ]
     },
     "execution_count": 120,
     "metadata": {},
     "output_type": "execute_result"
    }
   ],
   "source": [
    "tru.get_leaderboard(app_ids=[\"Chain1_ChatApplication\"])"
   ]
  },
  {
   "cell_type": "code",
   "execution_count": 121,
   "metadata": {},
   "outputs": [
    {
     "name": "stdout",
     "output_type": "stream",
     "text": [
      "Starting dashboard ...\n",
      "Config file already exists. Skipping writing process.\n",
      "Credentials file already exists. Skipping writing process.\n",
      "Dashboard already running at path:   Network URL: http://192.168.0.95:8501\n",
      "\n"
     ]
    },
    {
     "data": {
      "text/plain": [
       "<Popen: returncode: None args: ['streamlit', 'run', '--server.headless=True'...>"
      ]
     },
     "execution_count": 121,
     "metadata": {},
     "output_type": "execute_result"
    }
   ],
   "source": [
    "tru.run_dashboard() # open a local streamlit app to explore\n",
    "\n",
    "# tru.stop_dashboard() # stop if needed"
   ]
  }
 ],
 "metadata": {
  "kernelspec": {
   "display_name": "chatter-stock",
   "language": "python",
   "name": "python3"
  },
  "language_info": {
   "codemirror_mode": {
    "name": "ipython",
    "version": 3
   },
   "file_extension": ".py",
   "mimetype": "text/x-python",
   "name": "python",
   "nbconvert_exporter": "python",
   "pygments_lexer": "ipython3",
   "version": "3.12.3"
  }
 },
 "nbformat": 4,
 "nbformat_minor": 2
}
